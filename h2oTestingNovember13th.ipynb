{
 "cells": [
  {
   "cell_type": "code",
   "execution_count": 1,
   "metadata": {},
   "outputs": [],
   "source": [
    "#All Packages Used\n",
    "import pandas as pd\n",
    "import h2o\n",
    "import numpy as np\n",
    "from h2o.estimators.random_forest import H2ORandomForestEstimator\n",
    "from sklearn.preprocessing import StandardScaler\n",
    "from sklearn.metrics import mean_squared_error"
   ]
  },
  {
   "cell_type": "code",
   "execution_count": 2,
   "metadata": {},
   "outputs": [
    {
     "name": "stderr",
     "output_type": "stream",
     "text": [
      "/Users/LiamRoberts/anaconda3/envs/DS1/lib/python3.6/site-packages/IPython/core/interactiveshell.py:2785: DtypeWarning: Columns (7) have mixed types. Specify dtype option on import or set low_memory=False.\n",
      "  interactivity=interactivity, compiler=compiler, result=result)\n"
     ]
    }
   ],
   "source": [
    "#Import Data\n",
    "data = pd.read_csv('train.csv',parse_dates=True,index_col='Date')\n",
    "store = pd.read_csv('store.csv')\n",
    "states = pd.read_csv('store_states.csv')"
   ]
  },
  {
   "cell_type": "code",
   "execution_count": 3,
   "metadata": {},
   "outputs": [],
   "source": [
    "#Drop NaN Columns\n",
    "store.drop(columns = ['CompetitionOpenSinceMonth',\n",
    "                      'CompetitionOpenSinceYear',\n",
    "                      'Promo2SinceWeek',\n",
    "                      'Promo2SinceYear'],inplace = True)\n",
    "\n",
    "#Convert Date Columns\n",
    "def add_dates(data):\n",
    "    data['Year'] = data.index.year\n",
    "    data['Month'] = data.index.month\n",
    "    data['Day'] = data.index.day\n",
    "    data['WeekOfYear'] = data.index.weekofyear\n",
    "    data['MonthIndex'] = data.index.month + 12*(data.index.year-2013)\n",
    "    data['WeekIndex'] = data.index.weekofyear + 52*(data.index.year-2013)\n",
    "    return data\n",
    "\n",
    "data = add_dates(data)"
   ]
  },
  {
   "cell_type": "code",
   "execution_count": 4,
   "metadata": {},
   "outputs": [],
   "source": [
    "#Merge training dataframe\n",
    "pd_df = data.merge(store,on='Store')\n",
    "pd_df = pd_df.merge(states,on='Store')\n",
    "\n",
    "#Drop times when store didnt make enough sales (these will also cause NaN values for log transforms)\n",
    "pd_df = pd_df[(pd_df.Sales>0)]"
   ]
  },
  {
   "cell_type": "code",
   "execution_count": 5,
   "metadata": {},
   "outputs": [
    {
     "data": {
      "text/html": [
       "<div>\n",
       "<style scoped>\n",
       "    .dataframe tbody tr th:only-of-type {\n",
       "        vertical-align: middle;\n",
       "    }\n",
       "\n",
       "    .dataframe tbody tr th {\n",
       "        vertical-align: top;\n",
       "    }\n",
       "\n",
       "    .dataframe thead th {\n",
       "        text-align: right;\n",
       "    }\n",
       "</style>\n",
       "<table border=\"1\" class=\"dataframe\">\n",
       "  <thead>\n",
       "    <tr style=\"text-align: right;\">\n",
       "      <th></th>\n",
       "      <th>Store</th>\n",
       "      <th>DayOfWeek</th>\n",
       "      <th>Sales</th>\n",
       "      <th>Customers</th>\n",
       "      <th>Open</th>\n",
       "      <th>Promo</th>\n",
       "      <th>StateHoliday</th>\n",
       "      <th>SchoolHoliday</th>\n",
       "      <th>Year</th>\n",
       "      <th>Month</th>\n",
       "      <th>Day</th>\n",
       "      <th>WeekOfYear</th>\n",
       "      <th>MonthIndex</th>\n",
       "      <th>WeekIndex</th>\n",
       "      <th>StoreType</th>\n",
       "      <th>Assortment</th>\n",
       "      <th>CompetitionDistance</th>\n",
       "      <th>Promo2</th>\n",
       "      <th>PromoInterval</th>\n",
       "      <th>State</th>\n",
       "    </tr>\n",
       "  </thead>\n",
       "  <tbody>\n",
       "    <tr>\n",
       "      <th>0</th>\n",
       "      <td>1</td>\n",
       "      <td>5</td>\n",
       "      <td>5263</td>\n",
       "      <td>555</td>\n",
       "      <td>1</td>\n",
       "      <td>1</td>\n",
       "      <td>0</td>\n",
       "      <td>1</td>\n",
       "      <td>2015</td>\n",
       "      <td>7</td>\n",
       "      <td>31</td>\n",
       "      <td>31</td>\n",
       "      <td>31</td>\n",
       "      <td>135</td>\n",
       "      <td>c</td>\n",
       "      <td>a</td>\n",
       "      <td>1270.0</td>\n",
       "      <td>0</td>\n",
       "      <td>NaN</td>\n",
       "      <td>HE</td>\n",
       "    </tr>\n",
       "  </tbody>\n",
       "</table>\n",
       "</div>"
      ],
      "text/plain": [
       "   Store  DayOfWeek  Sales  Customers  Open  Promo StateHoliday  \\\n",
       "0      1          5   5263        555     1      1            0   \n",
       "\n",
       "   SchoolHoliday  Year  Month  Day  WeekOfYear  MonthIndex  WeekIndex  \\\n",
       "0              1  2015      7   31          31          31        135   \n",
       "\n",
       "  StoreType Assortment  CompetitionDistance  Promo2 PromoInterval State  \n",
       "0         c          a               1270.0       0           NaN    HE  "
      ]
     },
     "execution_count": 5,
     "metadata": {},
     "output_type": "execute_result"
    }
   ],
   "source": [
    "pd_df.head(1)"
   ]
  },
  {
   "cell_type": "code",
   "execution_count": 6,
   "metadata": {},
   "outputs": [],
   "source": [
    "#Adding store aggregate info\n",
    "agg = pd_df[['Store','Customers','Sales']].groupby(by = 'Store').sum()\n",
    "means = pd_df[['Store','Customers','Sales']].groupby(by = 'Store').mean()\n",
    "\n",
    "promo = pd_df[(pd_df.Promo == 1)].groupby(by = 'Store').sum()\n",
    "nopromo = pd_df[pd_df.Promo ==0].groupby(by = 'Store').sum()\n",
    "holiday = pd_df[(pd_df.SchoolHoliday == 1) | (pd_df.StateHoliday == 1)].groupby(by = 'Store').sum()\n",
    "noholiday = pd_df[(pd_df.SchoolHoliday == 0) & (pd_df.StateHoliday == 0)].groupby(by = 'Store').sum()\n",
    "agg['salespercust'] = agg.Sales/agg.Customers\n",
    "agg['promoratio'] = promo.Sales/nopromo.Sales\n",
    "agg['holidayratio'] = holiday.Sales/noholiday.Sales\n",
    "agg[['avgcustomers','avgsales']] = means[['Customers','Sales']]\n",
    "agg.drop(columns = ['Sales','Customers'],inplace=True)"
   ]
  },
  {
   "cell_type": "code",
   "execution_count": 8,
   "metadata": {},
   "outputs": [
    {
     "data": {
      "text/html": [
       "<div>\n",
       "<style scoped>\n",
       "    .dataframe tbody tr th:only-of-type {\n",
       "        vertical-align: middle;\n",
       "    }\n",
       "\n",
       "    .dataframe tbody tr th {\n",
       "        vertical-align: top;\n",
       "    }\n",
       "\n",
       "    .dataframe thead th {\n",
       "        text-align: right;\n",
       "    }\n",
       "</style>\n",
       "<table border=\"1\" class=\"dataframe\">\n",
       "  <thead>\n",
       "    <tr style=\"text-align: right;\">\n",
       "      <th></th>\n",
       "      <th>salespercust</th>\n",
       "      <th>promoratio</th>\n",
       "      <th>holidayratio</th>\n",
       "      <th>avgcustomers</th>\n",
       "      <th>avgsales</th>\n",
       "    </tr>\n",
       "    <tr>\n",
       "      <th>Store</th>\n",
       "      <th></th>\n",
       "      <th></th>\n",
       "      <th></th>\n",
       "      <th></th>\n",
       "      <th></th>\n",
       "    </tr>\n",
       "  </thead>\n",
       "  <tbody>\n",
       "    <tr>\n",
       "      <th>1</th>\n",
       "      <td>8.437366</td>\n",
       "      <td>0.996361</td>\n",
       "      <td>2.289436</td>\n",
       "      <td>564.049936</td>\n",
       "      <td>4759.096031</td>\n",
       "    </tr>\n",
       "  </tbody>\n",
       "</table>\n",
       "</div>"
      ],
      "text/plain": [
       "       salespercust  promoratio  holidayratio  avgcustomers     avgsales\n",
       "Store                                                                   \n",
       "1          8.437366    0.996361      2.289436    564.049936  4759.096031"
      ]
     },
     "execution_count": 8,
     "metadata": {},
     "output_type": "execute_result"
    }
   ],
   "source": [
    "agg.head(1)"
   ]
  },
  {
   "cell_type": "code",
   "execution_count": 9,
   "metadata": {},
   "outputs": [
    {
     "data": {
      "text/html": [
       "<div>\n",
       "<style scoped>\n",
       "    .dataframe tbody tr th:only-of-type {\n",
       "        vertical-align: middle;\n",
       "    }\n",
       "\n",
       "    .dataframe tbody tr th {\n",
       "        vertical-align: top;\n",
       "    }\n",
       "\n",
       "    .dataframe thead th {\n",
       "        text-align: right;\n",
       "    }\n",
       "</style>\n",
       "<table border=\"1\" class=\"dataframe\">\n",
       "  <thead>\n",
       "    <tr style=\"text-align: right;\">\n",
       "      <th></th>\n",
       "      <th>Store</th>\n",
       "      <th>DayOfWeek</th>\n",
       "      <th>Sales</th>\n",
       "      <th>Customers</th>\n",
       "      <th>Open</th>\n",
       "      <th>Promo</th>\n",
       "      <th>StateHoliday</th>\n",
       "      <th>SchoolHoliday</th>\n",
       "      <th>Year</th>\n",
       "      <th>Month</th>\n",
       "      <th>...</th>\n",
       "      <th>Assortment</th>\n",
       "      <th>CompetitionDistance</th>\n",
       "      <th>Promo2</th>\n",
       "      <th>PromoInterval</th>\n",
       "      <th>State</th>\n",
       "      <th>salespercust</th>\n",
       "      <th>promoratio</th>\n",
       "      <th>holidayratio</th>\n",
       "      <th>avgcustomers</th>\n",
       "      <th>avgsales</th>\n",
       "    </tr>\n",
       "  </thead>\n",
       "  <tbody>\n",
       "    <tr>\n",
       "      <th>0</th>\n",
       "      <td>1</td>\n",
       "      <td>5</td>\n",
       "      <td>5263</td>\n",
       "      <td>555</td>\n",
       "      <td>1</td>\n",
       "      <td>1</td>\n",
       "      <td>0</td>\n",
       "      <td>1</td>\n",
       "      <td>2015</td>\n",
       "      <td>7</td>\n",
       "      <td>...</td>\n",
       "      <td>a</td>\n",
       "      <td>1270.0</td>\n",
       "      <td>0</td>\n",
       "      <td>NaN</td>\n",
       "      <td>HE</td>\n",
       "      <td>8.437366</td>\n",
       "      <td>0.996361</td>\n",
       "      <td>2.289436</td>\n",
       "      <td>564.049936</td>\n",
       "      <td>4759.096031</td>\n",
       "    </tr>\n",
       "  </tbody>\n",
       "</table>\n",
       "<p>1 rows × 25 columns</p>\n",
       "</div>"
      ],
      "text/plain": [
       "   Store  DayOfWeek  Sales  Customers  Open  Promo StateHoliday  \\\n",
       "0      1          5   5263        555     1      1            0   \n",
       "\n",
       "   SchoolHoliday  Year  Month     ...       Assortment  CompetitionDistance  \\\n",
       "0              1  2015      7     ...                a               1270.0   \n",
       "\n",
       "   Promo2  PromoInterval State salespercust  promoratio  holidayratio  \\\n",
       "0       0            NaN    HE     8.437366    0.996361      2.289436   \n",
       "\n",
       "  avgcustomers     avgsales  \n",
       "0   564.049936  4759.096031  \n",
       "\n",
       "[1 rows x 25 columns]"
      ]
     },
     "execution_count": 9,
     "metadata": {},
     "output_type": "execute_result"
    }
   ],
   "source": [
    "pd_df = pd_df.merge(agg,on = 'Store')\n",
    "pd_df.head(1)"
   ]
  },
  {
   "cell_type": "code",
   "execution_count": 196,
   "metadata": {},
   "outputs": [],
   "source": [
    "#Adding Time Series Sales Info\n",
    "def month_info(df,monthsback,joiner,how = 'inner'):\n",
    "    TS_M = df[['MonthIndex','Sales','Store','Customers']].copy()\n",
    "    TS_M['MonthIndex'] = TS_M['MonthIndex']+monthsback\n",
    "    TS_M = TS_M.groupby(by = ['Store','MonthIndex']).median()\n",
    "    TS_M.rename(columns = {'Sales':'Sales{}MonthsBack'.format(month),'Customers':'Customers{}MonthsBack'.format(month)},inplace=True)\n",
    "    df = joiner.merge(TS_M,how = how,on=['Store','MonthIndex'])\n",
    "    return df\n",
    "\n",
    "def year_info(df,yearsback,joiner,how = 'inner'):\n",
    "    TS_y = df[['Year','Sales','Store','Customers']].copy()\n",
    "    TS_y['Year'] = TS_y['Year']+yearsback\n",
    "    TS_y = TS_y.groupby(by = ['Store','Year']).median()\n",
    "    TS_y.rename(columns = {'Sales':'Sales{}YearsBack'.format(month),'Customers':'Customers{}YearsBack'.format(month)},inplace=True)\n",
    "    df = joiner.merge(TS_y,how = how,on=['Store','Year'])\n",
    "    \n",
    "months = [2,3,4]\n",
    "for month in months:\n",
    "    pd_df = month_info(pd_df,month,pd_df)"
   ]
  },
  {
   "cell_type": "code",
   "execution_count": 197,
   "metadata": {},
   "outputs": [],
   "source": [
    "valid = pd_df[(pd_df.MonthIndex > 29)]\n",
    "data = pd_df[(pd_df.MonthIndex <= 29)]"
   ]
  },
  {
   "cell_type": "code",
   "execution_count": 198,
   "metadata": {},
   "outputs": [
    {
     "data": {
      "text/html": [
       "<div>\n",
       "<style scoped>\n",
       "    .dataframe tbody tr th:only-of-type {\n",
       "        vertical-align: middle;\n",
       "    }\n",
       "\n",
       "    .dataframe tbody tr th {\n",
       "        vertical-align: top;\n",
       "    }\n",
       "\n",
       "    .dataframe thead th {\n",
       "        text-align: right;\n",
       "    }\n",
       "</style>\n",
       "<table border=\"1\" class=\"dataframe\">\n",
       "  <thead>\n",
       "    <tr style=\"text-align: right;\">\n",
       "      <th></th>\n",
       "      <th>Store</th>\n",
       "      <th>DayOfWeek</th>\n",
       "      <th>Sales</th>\n",
       "      <th>Customers</th>\n",
       "      <th>Open</th>\n",
       "      <th>Promo</th>\n",
       "      <th>StateHoliday</th>\n",
       "      <th>SchoolHoliday</th>\n",
       "      <th>Year</th>\n",
       "      <th>Month</th>\n",
       "      <th>...</th>\n",
       "      <th>promoratio</th>\n",
       "      <th>holidayratio</th>\n",
       "      <th>avgcustomers</th>\n",
       "      <th>avgsales</th>\n",
       "      <th>Sales2MonthsBack</th>\n",
       "      <th>Customers2MonthsBack</th>\n",
       "      <th>Sales3MonthsBack</th>\n",
       "      <th>Customers3MonthsBack</th>\n",
       "      <th>Sales4MonthsBack</th>\n",
       "      <th>Customers4MonthsBack</th>\n",
       "    </tr>\n",
       "  </thead>\n",
       "  <tbody>\n",
       "    <tr>\n",
       "      <th>52</th>\n",
       "      <td>1</td>\n",
       "      <td>6</td>\n",
       "      <td>5592</td>\n",
       "      <td>580</td>\n",
       "      <td>1</td>\n",
       "      <td>0</td>\n",
       "      <td>0</td>\n",
       "      <td>0</td>\n",
       "      <td>2015</td>\n",
       "      <td>5</td>\n",
       "      <td>...</td>\n",
       "      <td>0.996361</td>\n",
       "      <td>2.289436</td>\n",
       "      <td>564.049936</td>\n",
       "      <td>4759.096031</td>\n",
       "      <td>4294.5</td>\n",
       "      <td>531.5</td>\n",
       "      <td>4467.5</td>\n",
       "      <td>527.0</td>\n",
       "      <td>4690.0</td>\n",
       "      <td>565.0</td>\n",
       "    </tr>\n",
       "    <tr>\n",
       "      <th>53</th>\n",
       "      <td>1</td>\n",
       "      <td>5</td>\n",
       "      <td>4656</td>\n",
       "      <td>537</td>\n",
       "      <td>1</td>\n",
       "      <td>0</td>\n",
       "      <td>0</td>\n",
       "      <td>0</td>\n",
       "      <td>2015</td>\n",
       "      <td>5</td>\n",
       "      <td>...</td>\n",
       "      <td>0.996361</td>\n",
       "      <td>2.289436</td>\n",
       "      <td>564.049936</td>\n",
       "      <td>4759.096031</td>\n",
       "      <td>4294.5</td>\n",
       "      <td>531.5</td>\n",
       "      <td>4467.5</td>\n",
       "      <td>527.0</td>\n",
       "      <td>4690.0</td>\n",
       "      <td>565.0</td>\n",
       "    </tr>\n",
       "    <tr>\n",
       "      <th>54</th>\n",
       "      <td>1</td>\n",
       "      <td>4</td>\n",
       "      <td>4111</td>\n",
       "      <td>474</td>\n",
       "      <td>1</td>\n",
       "      <td>0</td>\n",
       "      <td>0</td>\n",
       "      <td>0</td>\n",
       "      <td>2015</td>\n",
       "      <td>5</td>\n",
       "      <td>...</td>\n",
       "      <td>0.996361</td>\n",
       "      <td>2.289436</td>\n",
       "      <td>564.049936</td>\n",
       "      <td>4759.096031</td>\n",
       "      <td>4294.5</td>\n",
       "      <td>531.5</td>\n",
       "      <td>4467.5</td>\n",
       "      <td>527.0</td>\n",
       "      <td>4690.0</td>\n",
       "      <td>565.0</td>\n",
       "    </tr>\n",
       "  </tbody>\n",
       "</table>\n",
       "<p>3 rows × 31 columns</p>\n",
       "</div>"
      ],
      "text/plain": [
       "    Store  DayOfWeek  Sales  Customers  Open  Promo StateHoliday  \\\n",
       "52      1          6   5592        580     1      0            0   \n",
       "53      1          5   4656        537     1      0            0   \n",
       "54      1          4   4111        474     1      0            0   \n",
       "\n",
       "    SchoolHoliday  Year  Month         ...           promoratio  holidayratio  \\\n",
       "52              0  2015      5         ...             0.996361      2.289436   \n",
       "53              0  2015      5         ...             0.996361      2.289436   \n",
       "54              0  2015      5         ...             0.996361      2.289436   \n",
       "\n",
       "    avgcustomers     avgsales Sales2MonthsBack Customers2MonthsBack  \\\n",
       "52    564.049936  4759.096031           4294.5                531.5   \n",
       "53    564.049936  4759.096031           4294.5                531.5   \n",
       "54    564.049936  4759.096031           4294.5                531.5   \n",
       "\n",
       "    Sales3MonthsBack  Customers3MonthsBack Sales4MonthsBack  \\\n",
       "52            4467.5                 527.0           4690.0   \n",
       "53            4467.5                 527.0           4690.0   \n",
       "54            4467.5                 527.0           4690.0   \n",
       "\n",
       "   Customers4MonthsBack  \n",
       "52                565.0  \n",
       "53                565.0  \n",
       "54                565.0  \n",
       "\n",
       "[3 rows x 31 columns]"
      ]
     },
     "execution_count": 198,
     "metadata": {},
     "output_type": "execute_result"
    }
   ],
   "source": [
    "data.head(3)"
   ]
  },
  {
   "cell_type": "code",
   "execution_count": 199,
   "metadata": {},
   "outputs": [
    {
     "name": "stdout",
     "output_type": "stream",
     "text": [
      "Checking whether there is an H2O instance running at http://localhost:54321..... not found.\n",
      "Attempting to start a local H2O server...\n",
      "  Java Version: java version \"1.8.0_192\"; Java(TM) SE Runtime Environment (build 1.8.0_192-b12); Java HotSpot(TM) 64-Bit Server VM (build 25.192-b12, mixed mode)\n",
      "  Starting server from /Users/LiamRoberts/anaconda3/envs/DS1/lib/python3.6/site-packages/h2o/backend/bin/h2o.jar\n",
      "  Ice root: /var/folders/sj/qvzvqx5n1qv59yg5v3pz2y400000gn/T/tmp5wep0tw6\n",
      "  JVM stdout: /var/folders/sj/qvzvqx5n1qv59yg5v3pz2y400000gn/T/tmp5wep0tw6/h2o_LiamRoberts_started_from_python.out\n",
      "  JVM stderr: /var/folders/sj/qvzvqx5n1qv59yg5v3pz2y400000gn/T/tmp5wep0tw6/h2o_LiamRoberts_started_from_python.err\n",
      "  Server is running at http://127.0.0.1:54321\n",
      "Connecting to H2O server at http://127.0.0.1:54321... successful.\n"
     ]
    },
    {
     "data": {
      "text/html": [
       "<div style=\"overflow:auto\"><table style=\"width:50%\"><tr><td>H2O cluster uptime:</td>\n",
       "<td>01 secs</td></tr>\n",
       "<tr><td>H2O cluster timezone:</td>\n",
       "<td>America/Toronto</td></tr>\n",
       "<tr><td>H2O data parsing timezone:</td>\n",
       "<td>UTC</td></tr>\n",
       "<tr><td>H2O cluster version:</td>\n",
       "<td>3.20.0.7</td></tr>\n",
       "<tr><td>H2O cluster version age:</td>\n",
       "<td>2 months and 10 days </td></tr>\n",
       "<tr><td>H2O cluster name:</td>\n",
       "<td>H2O_from_python_LiamRoberts_0afp26</td></tr>\n",
       "<tr><td>H2O cluster total nodes:</td>\n",
       "<td>1</td></tr>\n",
       "<tr><td>H2O cluster free memory:</td>\n",
       "<td>5.333 Gb</td></tr>\n",
       "<tr><td>H2O cluster total cores:</td>\n",
       "<td>8</td></tr>\n",
       "<tr><td>H2O cluster allowed cores:</td>\n",
       "<td>8</td></tr>\n",
       "<tr><td>H2O cluster status:</td>\n",
       "<td>accepting new members, healthy</td></tr>\n",
       "<tr><td>H2O connection url:</td>\n",
       "<td>http://127.0.0.1:54321</td></tr>\n",
       "<tr><td>H2O connection proxy:</td>\n",
       "<td>None</td></tr>\n",
       "<tr><td>H2O internal security:</td>\n",
       "<td>False</td></tr>\n",
       "<tr><td>H2O API Extensions:</td>\n",
       "<td>XGBoost, Algos, AutoML, Core V3, Core V4</td></tr>\n",
       "<tr><td>Python version:</td>\n",
       "<td>3.6.5 final</td></tr></table></div>"
      ],
      "text/plain": [
       "--------------------------  ----------------------------------------\n",
       "H2O cluster uptime:         01 secs\n",
       "H2O cluster timezone:       America/Toronto\n",
       "H2O data parsing timezone:  UTC\n",
       "H2O cluster version:        3.20.0.7\n",
       "H2O cluster version age:    2 months and 10 days\n",
       "H2O cluster name:           H2O_from_python_LiamRoberts_0afp26\n",
       "H2O cluster total nodes:    1\n",
       "H2O cluster free memory:    5.333 Gb\n",
       "H2O cluster total cores:    8\n",
       "H2O cluster allowed cores:  8\n",
       "H2O cluster status:         accepting new members, healthy\n",
       "H2O connection url:         http://127.0.0.1:54321\n",
       "H2O connection proxy:\n",
       "H2O internal security:      False\n",
       "H2O API Extensions:         XGBoost, Algos, AutoML, Core V3, Core V4\n",
       "Python version:             3.6.5 final\n",
       "--------------------------  ----------------------------------------"
      ]
     },
     "metadata": {},
     "output_type": "display_data"
    }
   ],
   "source": [
    "#Initialize h2o cluster and clear any previously saved info from the cluster\n",
    "h2o.init(nthreads=-1,max_mem_size='6G')\n",
    "h2o.remove_all()"
   ]
  },
  {
   "cell_type": "code",
   "execution_count": 200,
   "metadata": {},
   "outputs": [
    {
     "name": "stderr",
     "output_type": "stream",
     "text": [
      "/Users/LiamRoberts/anaconda3/envs/DS1/lib/python3.6/site-packages/h2o/utils/shared_utils.py:177: FutureWarning: Method .as_matrix will be removed in a future version. Use .values instead.\n",
      "  data = _handle_python_lists(python_obj.as_matrix().tolist(), -1)[1]\n"
     ]
    },
    {
     "name": "stdout",
     "output_type": "stream",
     "text": [
      "Parse progress: |█████████████████████████████████████████████████████████| 100%\n",
      "Parse progress: |█████████████████████████████████████████████████████████| 100%\n"
     ]
    }
   ],
   "source": [
    "#Create h2o frame for training models\n",
    "data = h2o.H2OFrame(python_obj=data)\n",
    "valid = h2o.H2OFrame(python_obj=valid)"
   ]
  },
  {
   "cell_type": "code",
   "execution_count": 201,
   "metadata": {},
   "outputs": [],
   "source": [
    "#Log transform sales data and assign X and y columns names\n",
    "data['log_sales'] = data['Sales'].log()\n",
    "valid['log_sales'] = valid['Sales'].log()\n",
    "\n",
    "X_labels = [i for i in data.col_names if (i not in ['Sales','Customers','log_sales'])]\n",
    "y_labels = 'log_sales'"
   ]
  },
  {
   "cell_type": "code",
   "execution_count": 172,
   "metadata": {},
   "outputs": [
    {
     "name": "stdout",
     "output_type": "stream",
     "text": [
      "drf Model Build progress: |███████████████████████████████████████████████| 100%\n"
     ]
    }
   ],
   "source": [
    "#Create Model\n",
    "model = H2ORandomForestEstimator(    \n",
    "    ntrees=50,\n",
    "    max_depth = 30,\n",
    "    stopping_rounds = 4,\n",
    "    stopping_tolerance = 1e-4)\n",
    "\n",
    "#h2o supports .fit() to fit into the sklearn pipeline however recommends using .train() \n",
    "#and passing the full dataframe into the model\n",
    "model.train(x=X_labels,y=y_labels,training_frame=data,validation_frame=valid)"
   ]
  },
  {
   "cell_type": "code",
   "execution_count": 184,
   "metadata": {},
   "outputs": [
    {
     "data": {
      "text/html": [
       "<div>\n",
       "<style scoped>\n",
       "    .dataframe tbody tr th:only-of-type {\n",
       "        vertical-align: middle;\n",
       "    }\n",
       "\n",
       "    .dataframe tbody tr th {\n",
       "        vertical-align: top;\n",
       "    }\n",
       "\n",
       "    .dataframe thead th {\n",
       "        text-align: right;\n",
       "    }\n",
       "</style>\n",
       "<table border=\"1\" class=\"dataframe\">\n",
       "  <thead>\n",
       "    <tr style=\"text-align: right;\">\n",
       "      <th></th>\n",
       "      <th></th>\n",
       "      <th>timestamp</th>\n",
       "      <th>duration</th>\n",
       "      <th>number_of_trees</th>\n",
       "      <th>training_rmse</th>\n",
       "      <th>training_mae</th>\n",
       "      <th>training_deviance</th>\n",
       "      <th>validation_rmse</th>\n",
       "      <th>validation_mae</th>\n",
       "      <th>validation_deviance</th>\n",
       "    </tr>\n",
       "  </thead>\n",
       "  <tbody>\n",
       "    <tr>\n",
       "      <th>69</th>\n",
       "      <td></td>\n",
       "      <td>2018-11-11 22:29:46</td>\n",
       "      <td>20 min  9.116 sec</td>\n",
       "      <td>89.0</td>\n",
       "      <td>0.103018</td>\n",
       "      <td>0.073134</td>\n",
       "      <td>0.010613</td>\n",
       "      <td>0.142242</td>\n",
       "      <td>0.110221</td>\n",
       "      <td>0.020233</td>\n",
       "    </tr>\n",
       "  </tbody>\n",
       "</table>\n",
       "</div>"
      ],
      "text/plain": [
       "                timestamp           duration  number_of_trees  training_rmse  \\\n",
       "69    2018-11-11 22:29:46  20 min  9.116 sec             89.0       0.103018   \n",
       "\n",
       "    training_mae  training_deviance  validation_rmse  validation_mae  \\\n",
       "69      0.073134           0.010613         0.142242        0.110221   \n",
       "\n",
       "    validation_deviance  \n",
       "69             0.020233  "
      ]
     },
     "metadata": {},
     "output_type": "display_data"
    }
   ],
   "source": [
    "#Check Model Performance\n",
    "display(model.score_history().tail(1))"
   ]
  },
  {
   "cell_type": "code",
   "execution_count": null,
   "metadata": {},
   "outputs": [],
   "source": [
    "#This line will prevent the cluster from getting its memory too filled up if the notebook is run multiple times\n",
    "h2o.cluster().shutdown()"
   ]
  },
  {
   "cell_type": "code",
   "execution_count": null,
   "metadata": {},
   "outputs": [],
   "source": []
  }
 ],
 "metadata": {
  "kernelspec": {
   "display_name": "Python [conda env:DS1]",
   "language": "python",
   "name": "conda-env-DS1-py"
  },
  "language_info": {
   "codemirror_mode": {
    "name": "ipython",
    "version": 3
   },
   "file_extension": ".py",
   "mimetype": "text/x-python",
   "name": "python",
   "nbconvert_exporter": "python",
   "pygments_lexer": "ipython3",
   "version": "3.6.5"
  }
 },
 "nbformat": 4,
 "nbformat_minor": 2
}
